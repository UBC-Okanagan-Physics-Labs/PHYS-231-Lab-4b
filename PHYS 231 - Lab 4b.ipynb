{
 "cells": [
  {
   "cell_type": "markdown",
   "id": "a3f0fdeb",
   "metadata": {
    "deletable": false,
    "editable": false,
    "tags": []
   },
   "source": [
    "# <div style=\"background-color:rgba(204, 229, 255, 0.5); text-align:center; vertical-align: middle; padding:40px 0; margin-top:30px\"><span style=\"color:rgba(0, 76, 153, 1);\">PHYS 231 Lab #4 - Day 2<span style=\"color:red\"> $\\to$ ($13$ possible marks)</span></span></div>\n",
    "\n",
    "### Due Thursday, Oct. 26 at 17:00 $-$ upload your .zip submission to the PHYS 231 Canvas Gradebook.\n",
    "\n",
    "<font size =\"4\"><span style=\"color:purple\">We recommend that you complete this notebook using either the [Google Chrome](https://www.google.com/intl/en_ca/chrome/) or [Mozilla Firefox](https://www.mozilla.org/en-CA/firefox/new/) browser.  Chrome and Firefox are both available for Windows, Mac, and Linux operating systems.  The PHYS 121 Jupyter notebooks should work in other browsers, but we have specifically verfied that they work well in both Chrome and Firefox.</span></font>\n",
    "\n",
    "# $LRC$ Circuit Frequency Response"
   ]
  },
  {
   "cell_type": "markdown",
   "id": "1eff9b5a",
   "metadata": {
    "deletable": false,
    "editable": false,
    "tags": []
   },
   "source": [
    "***\n",
    "## Autograding:\n",
    "The PHYS 231 Labs will make use of some autograding.  To make the autograding work, the two cells below needs to be executed.  The first one installs the required packages and the second imports required packages/modules.  If 'PHYS231.Installer()' reports that some functions have been installed, the user should restart the \"kernel\" and then exectute the PHYS231.Installer() cell a second time.  The second time the installer function is run, it should report that **\"All packages already installed. Please proceed\"**.\n",
    "\n",
    "If necessary, the kernel can be restarted by selecting **Kernel** $\\to$ **Restart Kernel** from the menu options at to the top of the page.  Here is a <a href = \"https://raw.githubusercontent.com/UBC-Okanagan-Physics-Labs/PHYS-121-images/main/general/gifs/restartKernel.gif\">GIF</a> showing how to restart the kernel.\n",
    "\n",
    "The 'PHYS231.Installer()' command requires the file 'PHYS231.py', which you should see included in the list of files along the left-hand side of the screen."
   ]
  },
  {
   "cell_type": "code",
   "execution_count": null,
   "id": "ec5f35fd",
   "metadata": {
    "deletable": false,
    "editable": false,
    "tags": []
   },
   "outputs": [],
   "source": [
    "# Import PHYS121.py and then run the installer function.\n",
    "import PHYS231\n",
    "PHYS231.Installer()"
   ]
  },
  {
   "cell_type": "code",
   "execution_count": null,
   "id": "3a63a348",
   "metadata": {
    "deletable": false,
    "editable": false,
    "tags": []
   },
   "outputs": [],
   "source": [
    "# Initialize Otter\n",
    "import otter\n",
    "grader = otter.Notebook(\"PHYS 231 - Lab 4b.ipynb\")"
   ]
  },
  {
   "cell_type": "markdown",
   "id": "d23eaa38",
   "metadata": {
    "deletable": false,
    "editable": false,
    "tags": []
   },
   "source": [
    "***\n",
    "## Import Modules:\n",
    "Execute the cell below to import a number of useful pre-built Python modules that will be used in the PHYS 121 pre-labs and labs."
   ]
  },
  {
   "cell_type": "code",
   "execution_count": null,
   "id": "2dd154de",
   "metadata": {
    "deletable": false,
    "tags": []
   },
   "outputs": [],
   "source": [
    "import numpy as np\n",
    "import matplotlib.pyplot as plt\n",
    "from matplotlib.pyplot import cm # used to generate a sequence of colours for plotting\n",
    "import pandas as pd\n",
    "import scipy.stats as sp\n",
    "from scipy.optimize import curve_fit\n",
    "from IPython.display import HTML as html_print\n",
    "from IPython.display import display, Markdown, Latex\n",
    "import uncertainties"
   ]
  },
  {
   "cell_type": "markdown",
   "id": "b06f8d96",
   "metadata": {
    "deletable": false,
    "editable": false,
    "tags": []
   },
   "source": [
    "# <div style=\"background-color:rgba(255, 204, 255, 0.5); text-align:center; vertical-align: middle; padding:40px 0; margin-top:30px\"><span style=\"color:rgba(102, 0, 204, 1);\">Name & Student Number</span></div>  \n",
    "\n",
    "To ensure that both you and your partner receive credit for you lab work, both your name and student number and your partner's name and student number need to appear in the notebooks used during the labs.  In the cells below this text, enter your name and student number and your partner's name and student number as strings (i.e. place your names and student numbers between single or double quotes.\n",
    "\n",
    "Examples of valid entries are:\n",
    "```python\n",
    "last_name_1 = 'Doe'\n",
    "first_name_1 = 'Jane'\n",
    "student_number_1 = '12345678'\n",
    "```\n",
    "and\n",
    "```python\n",
    "last_name_1 = \"Doe\"\n",
    "first_name_1 = \"John\"\n",
    "student_number_1 = \"12345678\"\n",
    "```"
   ]
  },
  {
   "cell_type": "markdown",
   "id": "b8936ab1",
   "metadata": {
    "deletable": false,
    "editable": false,
    "tags": []
   },
   "source": [
    "<!-- BEGIN QUESTION -->\n",
    "\n",
    "***\n",
    "### **<span style=\"color:blue\">Partner #1</span>** **<span style=\"color:red\">(0.5 marks)</span>** "
   ]
  },
  {
   "cell_type": "code",
   "execution_count": null,
   "id": "61088b13",
   "metadata": {
    "tags": []
   },
   "outputs": [],
   "source": [
    "# Enter LAST name of partner 1.  Delete the ... below and type your entry between the single quotes.\n",
    "# Once you've completed your entry, press SHIFT + ENTER to execute the cell.\n",
    "# *** Please do not change anything to the left of the equals sign. ***\n",
    "last_name_1 = ..."
   ]
  },
  {
   "cell_type": "code",
   "execution_count": null,
   "id": "56e00f2d",
   "metadata": {
    "tags": []
   },
   "outputs": [],
   "source": [
    "# Enter FIRST name of partner 1.  Delete the ... below and type your entry between the single quotes.\n",
    "# Once you've completed your entry, press SHIFT + ENTER to execute the cell.\n",
    "# *** Please do not change anything to the left of the equals sign. ***\n",
    "first_name_1 = ..."
   ]
  },
  {
   "cell_type": "code",
   "execution_count": null,
   "id": "0899d562",
   "metadata": {
    "tags": []
   },
   "outputs": [],
   "source": [
    "# Enter STUDENT NUMBER of partner 1.  Delete the ... below and type your entry between the single quotes.\n",
    "# Once you've completed your entry, press SHIFT + ENTER to execute the cell.\n",
    "# *** Please do not change anything to the left of the equals sign. ***\n",
    "student_number_1 = ..."
   ]
  },
  {
   "cell_type": "markdown",
   "id": "8ff1146c",
   "metadata": {
    "deletable": false,
    "editable": false,
    "tags": []
   },
   "source": [
    "***\n",
    "### **<span style=\"color:blue\">Partner #2</span>** **<span style=\"color:red\">(0.5 marks)</span>** \n",
    "If you are working on your own, leave all of last_name_2, first_name_2, and student_number_2 as ...  Please still exectute these cells and then run the 'grader.check(\"name_and_student_number_2\")' cell."
   ]
  },
  {
   "cell_type": "code",
   "execution_count": null,
   "id": "2dce481f",
   "metadata": {
    "tags": []
   },
   "outputs": [],
   "source": [
    "# Enter LAST name of partner 2.  Delete the ... below and type your entry between the single quotes.\n",
    "# Once you've completed your entry, press SHIFT + ENTER to execute the cell.\n",
    "# *** Please do not change anything to the left of the equals sign. ***\n",
    "last_name_2 = ..."
   ]
  },
  {
   "cell_type": "code",
   "execution_count": null,
   "id": "b0371eeb",
   "metadata": {
    "tags": []
   },
   "outputs": [],
   "source": [
    "# Enter FIRST name of partner 2.  Delete the ... below and type your entry between the single quotes.\n",
    "# Once you've completed your entry, press SHIFT + ENTER to execute the cell.\n",
    "# *** Please do not change anything to the left of the equals sign. ***\n",
    "first_name_2 = ..."
   ]
  },
  {
   "cell_type": "code",
   "execution_count": null,
   "id": "22fd6e8c",
   "metadata": {
    "tags": []
   },
   "outputs": [],
   "source": [
    "# Enter STUDENT NUMBER of partner 2.  Delete the ... below and type your entry between the single quotes.\n",
    "# Once you've completed your entry, press SHIFT + ENTER to execute the cell.\n",
    "# *** Please do not change anything to the left of the equals sign. ***\n",
    "student_number_2 = ..."
   ]
  },
  {
   "cell_type": "code",
   "execution_count": null,
   "id": "23469ece",
   "metadata": {
    "deletable": false,
    "editable": false
   },
   "outputs": [],
   "source": [
    "grader.check(\"name_and_student_number\")"
   ]
  },
  {
   "cell_type": "markdown",
   "id": "24289848",
   "metadata": {
    "deletable": false,
    "editable": false,
    "tags": []
   },
   "source": [
    "<!-- END QUESTION -->\n",
    "\n",
    "# <div style=\"background-color:rgba(255, 204, 255, 0.5); text-align:center; vertical-align: middle; padding:40px 0; margin-top:30px\"><span style=\"color:rgba(102, 0, 204, 1);\">Part 1 - Oscilloscope Measurement of the Resonance and Phase</span></div>\n",
    "\n",
    "## NumPy Arrays\n",
    "\n",
    "Data that you collect during the lab can be entered directly into a list using the following notation:\n",
    "\n",
    "```python\n",
    "x = [x0, x1, x2, x3, ..., xN]\n",
    "y = [y0, y1, y2, y3, ..., yN]\n",
    "```\n",
    "These lists will contain $N+1$ elements. It's usually more convenient to enter data into a NumPy array rather than a list because you can do mathematical operations on arrays that you can't do on lists.  For example:\n",
    "\n",
    "- squaring an array creates an new array with each of the elements from the original array squared\n",
    "- multiplying two arrays of the same length creates a new array in which the each elements is the product of the corresponding elements from the original arrays\n",
    "- ...\n",
    "\n",
    "NumPy arrays are entered using the following syntax:\n",
    "\n",
    "```python\n",
    "x = np.array([x0, x1, x2, x3, ..., xN])\n",
    "y = np.array([y0, y1, y2, y3, ..., yN])\n",
    "```             \n",
    "\n",
    "In the cell below, replace the \"...\" in NumPy array statements with your measurements of:\n",
    "\n",
    "- frequency in kHz\n",
    "- the amplitude of the signal from the function generator V0 in volts\n",
    "- the uncertainty in V0 in volts\n",
    "- the amplitude of the voltage across the resistor VR in volts\n",
    "- the uncertainty in VR in volts\n",
    "- the difference in time in $\\rm \\mu s$ between V0 and VR at, say, a zero crossing with positive slope (note that some of the time differences will be positive and some will be negative)\n",
    "- the uncertainty in the time difference in $\\rm \\mu s$"
   ]
  },
  {
   "cell_type": "markdown",
   "id": "884270de",
   "metadata": {
    "deletable": false,
    "editable": false,
    "tags": []
   },
   "source": [
    "<!-- BEGIN QUESTION -->\n",
    "\n",
    "***\n",
    "**<span style=\"color:blue\">Question 1.1</span>** **<span style=\"color:red\">(2 marks)</span>**  \n",
    "\n",
    "In the cell below, replace the ... with your data.  You have **lots** of time in today's lab, so focus on collecting as much high-quality data as possible.  Collect data at a **minimum** of $N = 25$ different frequencies.  Please enter your frequency data in **units of kHz** and your dt and errdt data in **units of $\\mu s$**.\n",
    "\n",
    "*** Please do not change anything to the left of the equals sign. ***"
   ]
  },
  {
   "cell_type": "code",
   "execution_count": null,
   "id": "3ef5b9db",
   "metadata": {
    "tags": []
   },
   "outputs": [],
   "source": [
    "frequency = np.array([..])\n",
    "V0 = np.array([...])\n",
    "errV0 = np.array([...])\n",
    "VR = np.array([...])\n",
    "errVR = np.array([...])\n",
    "dt = np.array([...])\n",
    "errdt = np.array([...])\n",
    "\n",
    "print(\"Array Lengths\")\n",
    "print(\"frequency: \", len(frequency))\n",
    "print(\"V0: \", len(V0))\n",
    "print(\"errV0: \", len(errV0))\n",
    "print(\"VR: \", len(VR))\n",
    "print(\"errVR: \", len(errVR))\n",
    "print(\"dt: \", len(dt))\n",
    "print(\"errdt: \", len(errdt))"
   ]
  },
  {
   "cell_type": "code",
   "execution_count": null,
   "id": "e07c6bd7",
   "metadata": {
    "deletable": false,
    "editable": false
   },
   "outputs": [],
   "source": [
    "grader.check(\"q1.1\")"
   ]
  },
  {
   "cell_type": "markdown",
   "id": "831cd322",
   "metadata": {
    "deletable": false,
    "editable": false,
    "tags": []
   },
   "source": [
    "<!-- END QUESTION -->\n",
    "\n",
    "## Pandas DateFrames\n",
    "\n",
    "The Pandas package can be used to display your array data in a nicely-formated table.  The Pandas package creates \"DataFrames\" which are 2 dimensional data structures, like a 2 dimensional array, or a table with rows and columns.  The cell below creates and then displays a DataFrame using the arrays that you created in the cell above."
   ]
  },
  {
   "cell_type": "code",
   "execution_count": null,
   "id": "976afdd5",
   "metadata": {},
   "outputs": [],
   "source": [
    "# Create the data structure.\n",
    "data = {\n",
    "    \"frequnecy (kHz)\": frequency,\n",
    "    \"V0 (V)\": V0,\n",
    "    \"errV0 (V)\": errV0,\n",
    "    \"VR (V)\": VR,\n",
    "    \"errVR (V)\": errVR,\n",
    "    \"dt ($\\mu$s)\": dt,\n",
    "    \"errdt ($\\mu$s)\": errdt\n",
    "        }\n",
    "\n",
    "# An option to format the numbers in the DataFrame.\n",
    "pd.set_option('display.float_format', lambda x: '%0.3g' % x)\n",
    "\n",
    "#Display the data.\n",
    "pd.DataFrame(data)"
   ]
  },
  {
   "cell_type": "markdown",
   "id": "325c3e60",
   "metadata": {
    "deletable": false,
    "editable": false,
    "tags": []
   },
   "source": [
    "## $V_\\mathrm{R}/V_0$ versus $\\omega = 2\\pi f$\n",
    "\n",
    "In the cells below, calculate:\n",
    "\n",
    "- $\\omega = 2\\pi f$.  For $\\pi$, use the syntax ```np.pi```.  \n",
    "- $V_\\mathrm{R}/V_0$\n",
    "- the uncertainty in $V_\\mathrm{R}/V_0$\n",
    "\n",
    "We'll assume the relative uncertainty in the frequency is negligible compared the relative uncertainties of the other relevant parameters.\n",
    "\n",
    "Recall propagation of errors.  If $y = f\\left(x1, x2, ..., x_N\\right)$ and $x_i\\pm\\Delta x_i$ for $i= 1...N$ are known, then:\n",
    "\n",
    "\\begin{align}\n",
    "\\Delta y = \\sqrt{\\left(\\frac{\\partial f}{\\partial x_1}\\Delta x_1\\right)^2 + \\left(\\frac{\\partial f}{\\partial x_2}\\Delta x_2\\right)^2 + ... + \\left(\\frac{\\partial f}{\\partial x_N}\\Delta x_N\\right)^2}\n",
    "\\end{align}"
   ]
  },
  {
   "cell_type": "markdown",
   "id": "152a2f5b",
   "metadata": {
    "deletable": false,
    "editable": false,
    "tags": []
   },
   "source": [
    "***\n",
    "**<span style=\"color:blue\">Question 1.2</span>** **<span style=\"color:red\">(3 marks)</span>**  \n",
    "\n",
    "In the cell below, replace the ... with expressions that complete the required calculations.\n",
    "\n",
    "*** Please do not change anything to the left of the equals sign. ***"
   ]
  },
  {
   "cell_type": "code",
   "execution_count": null,
   "id": "3b31da3c",
   "metadata": {
    "tags": []
   },
   "outputs": [],
   "source": [
    "# Calucate the angular frequency in units of krad/s.\n",
    "omega = ...\n",
    "Ratio = ...\n",
    "\n",
    "# Note that, in Python, NumPy can be used to access the square root function.  The syntax is np.sqrt(...).\n",
    "errRatio = ..."
   ]
  },
  {
   "cell_type": "code",
   "execution_count": null,
   "id": "8896e717",
   "metadata": {
    "deletable": false,
    "editable": false
   },
   "outputs": [],
   "source": [
    "grader.check(\"q1.2\")"
   ]
  },
  {
   "cell_type": "markdown",
   "id": "97e84b91",
   "metadata": {
    "deletable": false,
    "editable": false,
    "tags": []
   },
   "source": [
    "### Plot the data\n",
    "\n",
    "The $V_\\mathrm{R}/V_0$ data can now be plotted as a function of angular frequency."
   ]
  },
  {
   "cell_type": "markdown",
   "id": "a2a45d89",
   "metadata": {
    "deletable": false,
    "editable": false,
    "tags": []
   },
   "source": [
    "<!-- BEGIN QUESTION -->\n",
    "\n",
    "***\n",
    "**<span style=\"color:blue\">Question 1.3</span>** **<span style=\"color:red\">(1 mark)</span>**  \n",
    "\n",
    "In the cell below, replace the ... with the appropriate data to generate a plot of $V_R/V_0$ versus $\\omega$.  Be sure to include errror bars.\n",
    "\n",
    "For additional information about the 'Scatter()' function, see **Appendix A** near the end of this notebook. \n",
    "\n",
    "*** Please do not change anything to the left of the equals sign. ***"
   ]
  },
  {
   "cell_type": "code",
   "execution_count": null,
   "id": "89d46131",
   "metadata": {
    "tags": []
   },
   "outputs": [],
   "source": [
    "PHYS231.Scatter(xData = ..., \n",
    "                yData = ..., \n",
    "                yErrors = ...,\n",
    "                xlabel = '$\\omega$', \n",
    "                ylabel = '$V_R/V_0$', \n",
    "                xUnits = 'krad/s', \n",
    "                yUnits = '');"
   ]
  },
  {
   "cell_type": "markdown",
   "id": "60e0f084",
   "metadata": {
    "deletable": false,
    "editable": false,
    "tags": []
   },
   "source": [
    "<!-- END QUESTION -->\n",
    "\n",
    "## Nonlinear Fits\n",
    "\n",
    "Recall from class that, for the series $LRC$ circuit:\n",
    "\n",
    "\\begin{equation}\n",
    "\\frac{V_\\mathrm{R}}{V_0} = \\frac{R}{\\sqrt{R^2 + \\left(\\omega L - \\dfrac{1}{\\omega C}\\right)^2}}\n",
    "\\end{equation}\n",
    "\n",
    "If the substitutions $\\gamma = R/L$ and $\\omega_0 = 1/\\sqrt{LC}$ are made, one can show that:\n",
    "\n",
    "\\begin{equation}\n",
    "\\frac{V_\\mathrm{R}}{V_0} = \\frac{1}{\\sqrt{1 + \\left(\\dfrac{\\omega}{\\gamma}\\right)^2\\left[1 - \\left(\\dfrac{\\omega_0}{\\omega}\\right)^2\\right]^2}}\n",
    "\\end{equation}\n",
    "\n",
    "The parameter $\\omega_0$ represents the resonance frequency and $\\gamma$ represents the width of the resonance.\n",
    "\n",
    "In practice, the peak of your resonance will not reach a value of $V_\\mathrm{R}/V_0 = 1$.  This is due to losses on the wire used to wind the inductors which have not been taken into account.  To capture the effect of these losses, we can add an overall scaling factor $A$ such that:\n",
    "\n",
    "\\begin{equation}\n",
    "\\frac{V_\\mathrm{R}}{V_0} = \\frac{A}{\\sqrt{1 + \\left(\\dfrac{\\omega}{\\gamma}\\right)^2\\left[1 - \\left(\\dfrac{\\omega_0}{\\omega}\\right)^2\\right]^2}}\n",
    "\\end{equation}\n",
    "\n",
    "You will fit this function to your data in order to extract the best-fit parameters $A\\pm\\Delta A$, $\\omega_0\\pm\\Delta\\omega_0$, and $\\gamma\\pm\\Delta\\gamma$.  \n",
    "\n",
    "For nonlinear functions, it is often necessary to provide initial \"guesses\" for the parameters which are used by the fitting algorithm.  Use the plot generated above to determine reasonable initial guesses for the parameters $A$, $\\omega_0$, and $\\gamma$."
   ]
  },
  {
   "cell_type": "markdown",
   "id": "32b8ba60",
   "metadata": {
    "deletable": false,
    "editable": false,
    "tags": []
   },
   "source": [
    "<!-- BEGIN QUESTION -->\n",
    "\n",
    "***\n",
    "**<span style=\"color:blue\">Question 1.4</span>** **<span style=\"color:red\">(1 mark)</span>**  \n",
    "\n",
    "In the cell below, replace the ... with initial estimates of for the parameters $A$, $\\omega_0$, and $\\gamma$.\n",
    "\n",
    "*** Please do not change anything to the left of the equals sign. ***"
   ]
  },
  {
   "cell_type": "code",
   "execution_count": null,
   "id": "30246ea5",
   "metadata": {
    "tags": []
   },
   "outputs": [],
   "source": [
    "A_init = ...\n",
    "omega0_init = ... # krad/s\n",
    "gamma_init = ... # krad/s\n",
    "\n",
    "start1 = np.array([.9, 220, 50])"
   ]
  },
  {
   "cell_type": "markdown",
   "id": "9e439b18",
   "metadata": {
    "deletable": false,
    "editable": false,
    "tags": []
   },
   "source": [
    "<!-- END QUESTION -->\n",
    "\n",
    "We'll use the 'Lorentz' function contained in PHYS231.py to complete the nonlinear fit:\n",
    "```python\n",
    "A, Omega0, Gamma, errA, errOmega0, errGamma, fig = PHYS231.Lorentz(x, y, erry)\n",
    "```\n",
    "A weighted fit with a formatted plot can be called by using some of the other available arguments:\n",
    "```python\n",
    "A, Omega0, Gamma, errA, errOmega0, errGamma, fig = PHYS231.Lorentz(xData = x, yData = y, yErrors = erry, start = start, xlabel = 'time', ylabel = 'position', xUnits = 's', yUnits = 'm')\n",
    "```"
   ]
  },
  {
   "cell_type": "markdown",
   "id": "88c757d4",
   "metadata": {
    "deletable": false,
    "editable": false,
    "tags": []
   },
   "source": [
    "<!-- BEGIN QUESTION -->\n",
    "\n",
    "***\n",
    "**<span style=\"color:blue\">Question 1.5</span>** **<span style=\"color:red\">(1 mark)</span>**  \n",
    "\n",
    "In the cell below, replace the ... with appropriate data to complete the weighted nonlinear fit to $V_R/V_0\\pm\\Delta\\left(V_R/V_0\\right)$ versus $\\omega$.\n",
    "\n",
    "*** Please do not change anything to the left of the equals sign. ***"
   ]
  },
  {
   "cell_type": "code",
   "execution_count": null,
   "id": "3a6449a4",
   "metadata": {
    "tags": []
   },
   "outputs": [],
   "source": [
    "A, Omega0, Gamma, errA, errOmega0, errGamma, fig2 = PHYS231.Lorentz(\n",
    "    xData = ..., \n",
    "    yData = ..., \n",
    "    yErrors = ..., \n",
    "    start = start1,\n",
    "    xlabel = \"$\\omega$\", \n",
    "    ylabel = '$V_R/V_0$', \n",
    "    xUnits = 'krad/s', \n",
    "    yUnits = '')"
   ]
  },
  {
   "cell_type": "markdown",
   "id": "67b2fdd5",
   "metadata": {
    "deletable": false,
    "editable": false,
    "tags": []
   },
   "source": [
    "<!-- END QUESTION -->\n",
    "\n",
    "In your lab notebook, you should compare this experimentally-measured values of $\\omega_0$ and $\\gamma$ to the values that you expected based on the values of the components used in your circuit.  Recall that $\\omega_0 = 1/\\sqrt{LC}$ and $\\gamma=R/L$.  Keep in mind that your expected values of $\\omega_0$ and $\\gamma$ will also have uncertainties based on the uncertainties in the values of $R\\pm\\Delta R$, $L\\pm\\Delta L$, and $C\\pm\\Delta C$."
   ]
  },
  {
   "cell_type": "markdown",
   "id": "157a78b9",
   "metadata": {
    "deletable": false,
    "editable": false,
    "tags": []
   },
   "source": [
    "## $\\phi$ versus $\\omega$\n",
    "\n",
    "In the cells below, using $\\omega$ and the measured time difference $dt$ to calculate the phase difference between $V_\\mathrm{R}$ and $V_0$ (and its uncertainty).  Recall that $\\omega$ is in $\\rm krad/s$ and $dt$ is in $\\rm \\mu s$.  You will need to convert to $\\rm rad/s$ and $\\rm s$ to get the correct values for $\\phi$.\n",
    "\n",
    "Please do **NOT** change the variable names."
   ]
  },
  {
   "cell_type": "markdown",
   "id": "63ddc175",
   "metadata": {
    "deletable": false,
    "editable": false,
    "tags": []
   },
   "source": [
    "***\n",
    "**<span style=\"color:blue\">Question 1.6</span>** **<span style=\"color:red\">(2 marks)</span>**  \n",
    "\n",
    "In the cell below, replace the ... an expression to calculate $\\phi$ from the $dt$ and frequency measurements.\n",
    "\n",
    "*** Please do not change anything to the left of the equals sign. ***"
   ]
  },
  {
   "cell_type": "code",
   "execution_count": null,
   "id": "cb26661b",
   "metadata": {
    "tags": []
   },
   "outputs": [],
   "source": [
    "Phi = ...\n",
    "errPhi = ..."
   ]
  },
  {
   "cell_type": "code",
   "execution_count": null,
   "id": "dbb3520b",
   "metadata": {
    "deletable": false,
    "editable": false
   },
   "outputs": [],
   "source": [
    "grader.check(\"q1.6\")"
   ]
  },
  {
   "cell_type": "markdown",
   "id": "a88f7259",
   "metadata": {
    "deletable": false,
    "editable": false,
    "tags": []
   },
   "source": [
    "### Plot the data\n",
    "\n",
    "The $\\phi$ data can now be plotted as a function of angular frequency."
   ]
  },
  {
   "cell_type": "markdown",
   "id": "811e2a6e",
   "metadata": {
    "deletable": false,
    "editable": false,
    "tags": []
   },
   "source": [
    "<!-- BEGIN QUESTION -->\n",
    "\n",
    "***\n",
    "**<span style=\"color:blue\">Question 1.7</span>** **<span style=\"color:red\">(1 mark)</span>**  \n",
    "\n",
    "In the cell below, replace the ... with the appropriate data to generate a plot of $\\Phi$ versus $\\omega$.  Be sure to include errror bars.\n",
    "\n",
    "For additional information about the 'Scatter()' function, see **Appendix A** near the end of this notebook. \n",
    "\n",
    "*** Please do not change anything to the left of the equals sign. ***"
   ]
  },
  {
   "cell_type": "code",
   "execution_count": null,
   "id": "b754da75",
   "metadata": {
    "tags": []
   },
   "outputs": [],
   "source": [
    "PHYS231.Scatter(xData = ..., \n",
    "                yData = ..., \n",
    "                yErrors = ...,\n",
    "                xlabel = '$\\omega$', \n",
    "                ylabel = '$\\Phi$', \n",
    "                xUnits = 'krad/s', \n",
    "                yUnits = 'rad');"
   ]
  },
  {
   "cell_type": "markdown",
   "id": "6a808db9",
   "metadata": {
    "deletable": false,
    "editable": false,
    "tags": []
   },
   "source": [
    "<!-- END QUESTION -->\n",
    "\n",
    "## Nonlinear Fits\n",
    "\n",
    "Recall from class that, for the series $LRC$ circuit:\n",
    "\n",
    "\\begin{equation}\n",
    "\\phi = \\arctan\\left(\\dfrac{1}{\\omega RC} - \\omega\\frac{L}{R}\\right)\n",
    "\\end{equation}\n",
    "\n",
    "Expressed in terms of $\\gamma = R/L$ and $\\omega_0 = 1/\\sqrt{LC}$, the phase becomes:\n",
    "\n",
    "\\begin{equation}\n",
    "\\phi = \\arctan\\left\\{ \\frac{\\omega}{\\gamma}\\left[\\left(\\frac{\\omega_0}{\\omega}\\right)^2 - 1\\right] \\right\\}\n",
    "\\end{equation}\n",
    "\n",
    "You will fit this function to your data in order to extract the best-fit parameters $\\omega_0\\pm\\Delta\\omega_0$ and $\\gamma\\pm\\Delta\\gamma$.  \n",
    "\n",
    "We'll use the 'Phase' function contained in PHYS231.py to complete the nonlinear fit:\n",
    "```python\n",
    "Omega0, Gamma, errOmega0, errGamma, fig = PHYS231.Phase(x, y, erry)\n",
    "```\n",
    "A weighted fit with a formatted plot can be called by using some of the other available arguments:\n",
    "```python\n",
    "Omega0, Gamma, errOmega0, errGamma, fig = PHYS231.Phase(xData = x, yData = y, yErrors = erry, start = start, xlabel = 'time', ylabel = 'position', xUnits = 's', yUnits = 'm')\n",
    "```"
   ]
  },
  {
   "cell_type": "markdown",
   "id": "964ad87f",
   "metadata": {
    "deletable": false,
    "editable": false,
    "tags": []
   },
   "source": [
    "<!-- BEGIN QUESTION -->\n",
    "\n",
    "***\n",
    "**<span style=\"color:blue\">Question 1.8</span>** **<span style=\"color:red\">(1 mark)</span>**  \n",
    "\n",
    "In the cell below, replace the ... with appropriate data to complete the weighted nonlinear fit to $\\phi\\pm\\Delta\\phi$ versus $\\omega$.\n",
    "\n",
    "*** Please do not change anything to the left of the equals sign. ***"
   ]
  },
  {
   "cell_type": "code",
   "execution_count": null,
   "id": "5baa0871",
   "metadata": {
    "tags": []
   },
   "outputs": [],
   "source": [
    "# We'll use the best-fit parameters from the first fit as the starting parameters for the fit to the Phi data.\n",
    "start2 = np.array([Omega0, Gamma])\n",
    "\n",
    "Omega0, Gamma, errOmega0, errGamma, fig4 = PHYS231.Phase(\n",
    "    xData = ..., \n",
    "    yData = ..., \n",
    "    yErrors = ..., \n",
    "    start = start2,\n",
    "    xlabel = \"$\\omega$\", \n",
    "    ylabel = '$\\phi$', \n",
    "    xUnits = 'krad/s', \n",
    "    yUnits = 'rad')"
   ]
  },
  {
   "cell_type": "markdown",
   "id": "e2ff1b01",
   "metadata": {
    "deletable": false,
    "editable": false,
    "tags": []
   },
   "source": [
    "<!-- END QUESTION -->\n",
    "\n",
    "In your lab notebook, you should compare this experimentally-measured values of $\\omega_0$ and $\\gamma$ to the values that you expected based on the values of the components used in your circuit.  Recall that $\\omega_0 = 1/\\sqrt{LC}$ and $\\gamma=R/L$.  Keep in mind that your expected values of $\\omega_0$ and $\\gamma$ will also have uncertainties based on the uncertainties in the values of $R\\pm\\Delta R$, $L\\pm\\Delta L$, and $C\\pm\\Delta C$."
   ]
  },
  {
   "cell_type": "markdown",
   "id": "5598ec1e",
   "metadata": {
    "deletable": false,
    "editable": false,
    "tags": []
   },
   "source": [
    "# <div style=\"background-color:rgba(255, 204, 255, 0.5); text-align:center; vertical-align: middle; padding:40px 0; margin-top:30px\"><span style=\"color:rgba(102, 0, 204, 1);\">Part 2 - Feedback and Submission</span></div>"
   ]
  },
  {
   "cell_type": "markdown",
   "id": "38d2448a",
   "metadata": {
    "deletable": false,
    "editable": false,
    "tags": []
   },
   "source": [
    "<!-- BEGIN QUESTION -->\n",
    "\n",
    "***\n",
    "**<span style=\"color:blue\">Question 2.1:</span>**  \n",
    "\n",
    "We welcome your feedback on the PHYS 231 labs!  Please feel free to include any comments you have about this lab in the cell below.  Your comments will be taken into consideration when revising/improving the PHYS 231 labs.  You can suggest improvements, point out anything that was unclear, comment on the strengths and weaknesses of the lab, ...\n",
    "\n",
    "This question is optional and will have no impact on your lab grade."
   ]
  },
  {
   "cell_type": "markdown",
   "id": "7a2a8ceb",
   "metadata": {},
   "source": [
    "***\n",
    "**<span style=\"color:blue\">Answer 2.1:</span>**\n",
    "\n",
    "[//]: # (Please do not delete this comment or anything above it.  Anything below this comment can be deleted.)  \n",
    "\n",
    "Double click this cell to enter your comments.  This text can be deleted."
   ]
  },
  {
   "cell_type": "markdown",
   "id": "ccd44ed2",
   "metadata": {
    "deletable": false,
    "editable": false,
    "tags": []
   },
   "source": [
    "<!-- END QUESTION -->\n",
    "\n",
    "---\n",
    "\n",
    "To double-check your work, the cell below will rerun all of the autograder tests."
   ]
  },
  {
   "cell_type": "code",
   "execution_count": null,
   "id": "60492f24",
   "metadata": {
    "deletable": false,
    "editable": false,
    "tags": []
   },
   "outputs": [],
   "source": [
    "grader.check_all()"
   ]
  },
  {
   "cell_type": "markdown",
   "id": "55e19885",
   "metadata": {
    "deletable": false,
    "editable": false,
    "tags": []
   },
   "source": [
    "***\n",
    "\n",
    "## Submission\n",
    "\n",
    "Make sure you have run all cells in your notebook in order before running the cell below, so that all images/graphs appear in the output. The cell below will generate a zip file for you to submit. **Please save before exporting!**\n",
    "\n",
    "Once you've completed this notebook:\n",
    "- Save your work.\n",
    "- Run 'grader.export()' to generate a .zip file containing all of the materials that you will submit.\n",
    "- Download the generated .zip file.\n",
    "- Upload the .zip file to the PHYS 121 Canvas gradebook.\n",
    "\n",
    "Here is a <a href = \"https://raw.githubusercontent.com/UBC-Okanagan-Physics-Labs/PHYS-121-images/main/general/gifs/Submission.gif\">GIF</a> showing how these steps are completed.  Once your completed notebook has been uploaded to the Canvas gradebook, you're done!"
   ]
  },
  {
   "cell_type": "code",
   "execution_count": null,
   "id": "41712c5c",
   "metadata": {
    "deletable": false,
    "editable": false,
    "tags": []
   },
   "outputs": [],
   "source": [
    "# Save your notebook first, then run this cell (place your cursor in the cell and then hit Shift + Enter) to export \n",
    "# your submission.  Uploaded the .zip file that is generated to the gradebook of the Canvas shell for the PHYS 121 lab.\n",
    "grader.export()"
   ]
  },
  {
   "cell_type": "markdown",
   "id": "aa75e2c3",
   "metadata": {
    "deletable": false,
    "editable": false,
    "tags": []
   },
   "source": [
    "# <div style=\"background-color:rgba(255, 204, 255, 0.5); text-align:center; vertical-align: middle; padding:40px 0; margin-top:30px\"><span style=\"color:rgba(102, 0, 204, 1);\">Part 3 - Playground (optional)</span></div>\n",
    "\n",
    "Feel free to add as many cells as you like below and use them as a playground for further independent investigations.  These cells won't be graded, so feel free to use them in any way that you like.  "
   ]
  },
  {
   "cell_type": "code",
   "execution_count": null,
   "id": "ca96518e",
   "metadata": {},
   "outputs": [],
   "source": [
    "# Here's an empty code cell that you can use."
   ]
  },
  {
   "cell_type": "code",
   "execution_count": null,
   "id": "103d5ad8",
   "metadata": {},
   "outputs": [],
   "source": [
    "# Here's another empty code cell that you can use."
   ]
  },
  {
   "cell_type": "code",
   "execution_count": null,
   "id": "bd08786c",
   "metadata": {},
   "outputs": [],
   "source": [
    "# Here's yet another empty code cell that you can use.\n",
    "# If you need more, you can add cells using the '+' icon in the menu bar at to the top of the screen."
   ]
  },
  {
   "cell_type": "markdown",
   "id": "fb256f05",
   "metadata": {
    "deletable": false,
    "editable": false,
    "tags": []
   },
   "source": [
    "### <div style=\"background-color:rgba(255, 255, 102, 0.5); text-align:left; padding:20px 0; margin-top:20px\">$\\quad$Appendix A &ndash; The Scatter Function...</div>\n",
    "\n",
    "The function for generating scatter plots is called as follows:\n",
    "```python\n",
    "PHYS231.Scatter(xData, yData, yErrors = [], xlabel = 'x-axis', ylabel = 'y-axis', xUnits = '', yUnits = '', fill = False, show = True)\n",
    "```\n",
    "The 'xData' and 'yData' inputs are required, all other arguments are optional with default values set.  The function returns the a single output (the formatted plot):\n",
    "```python\n",
    "fig\n",
    "```\n",
    "\n",
    "The function will do a simple scatter plot if no 'yError' are included.  It will included error bars if 'yErrors' are passed to the function.  The 'fill' and 'show' arguments should generally be false.  \n",
    "\n",
    "If the 'xData' list is empty, as in:\n",
    "```python\n",
    "xData = []\n",
    "```\n",
    "then the x-axis will be the trial number.  For example, is 'xData' is empty and 'yData' has 10 elements, the x-axis will span 1 to 10.\n",
    "\n",
    "### Scatter Example Implmentation\n",
    "The code block below shows an implementation of 'Scatter'.\n",
    "```python\n",
    "import PHYS231\n",
    "theta = [10, 20, 30] # degrees\n",
    "T = [2.02, 1.95, 2.13] # s\n",
    "errT = [0.02, 0.02, 0.03] # s\n",
    "fig = PHYS231.Scatter(theta, T, errT, 'initial angle' , 'period', 'degrees', 's')\n",
    "```\n",
    "\n",
    "If you're interested in generating your own plots with customized formatting, see the following Python-based plotting tutorial: https://cmps-people.ok.ubc.ca/jbobowsk/Python/html/Jupyter%20Basic%20Plots.html.\n",
    "***"
   ]
  },
  {
   "cell_type": "markdown",
   "id": "5dd9a732",
   "metadata": {
    "deletable": false,
    "editable": false,
    "tags": []
   },
   "source": [
    "<img src=\"https://raw.githubusercontent.com/UBC-Okanagan-Physics-Labs/PHYS-121-images/main/general/images/ubc-logo-full.jpg\" width=\"500\"/>"
   ]
  },
  {
   "cell_type": "markdown",
   "id": "106c3613",
   "metadata": {},
   "source": [
    "Last update: October 12, 2023"
   ]
  }
 ],
 "metadata": {
  "celltoolbar": "Edit Metadata",
  "kernelspec": {
   "display_name": "Python 3 (ipykernel)",
   "language": "python",
   "name": "python3"
  },
  "language_info": {
   "codemirror_mode": {
    "name": "ipython",
    "version": 3
   },
   "file_extension": ".py",
   "mimetype": "text/x-python",
   "name": "python",
   "nbconvert_exporter": "python",
   "pygments_lexer": "ipython3",
   "version": "3.10.6"
  },
  "otter": {
   "OK_FORMAT": true,
   "tests": {
    "name_and_student_number": {
     "name": "name_and_student_number",
     "points": null,
     "suites": [
      {
       "cases": [
        {
         "code": ">>> isinstance(last_name_1, str)\nTrue",
         "failure_message": "last_name_1 must be a string (i.e. surround your answer by either single or double quotes).",
         "hidden": false,
         "locked": false,
         "points": 0
        },
        {
         "code": ">>> isinstance(first_name_1, str)\nTrue",
         "failure_message": "first_name_1 must be a string (i.e. surround your answer by either single or double quotes).",
         "hidden": false,
         "locked": false,
         "points": 0
        },
        {
         "code": ">>> isinstance(student_number_1, str)\nTrue",
         "failure_message": "student_number_1 must be a string (i.e. surround your answer by either single or double quotes).",
         "hidden": false,
         "locked": false,
         "points": 0
        },
        {
         "code": ">>> test = True\n>>> if isinstance(student_number_1, str):\n...     test = len(student_number_1) == 8\n>>> test\nTrue",
         "failure_message": "student_number_1 must be a string of exactly 8 characters.",
         "hidden": false,
         "locked": false,
         "points": 0
        },
        {
         "code": ">>> test = True\n>>> if isinstance(student_number_1, str):\n...     test = student_number_1.isdigit()\n>>> test\nTrue",
         "failure_message": "student_number_1 must contain only interger digits (0, 1, 2, 3, ..., 9)",
         "hidden": false,
         "locked": false,
         "points": 0.5
        },
        {
         "code": ">>> isinstance(last_name_2, str) or last_name_2 == ...\nTrue",
         "failure_message": "last_name_2 must be a string (i.e. surround your answer by either single or double quotes).",
         "hidden": false,
         "locked": false,
         "points": 0
        },
        {
         "code": ">>> isinstance(first_name_2, str) or first_name_2 == ...\nTrue",
         "failure_message": "first_name_2 must be a string (i.e. surround your answer by either single or double quotes).",
         "hidden": false,
         "locked": false,
         "points": 0
        },
        {
         "code": ">>> isinstance(student_number_2, str) or student_number_2 == ...\nTrue",
         "failure_message": "student_number_2 must be a string (i.e. surround your answer by either single or double quotes).",
         "hidden": false,
         "locked": false,
         "points": 0
        },
        {
         "code": ">>> test = True\n>>> if isinstance(student_number_2, str):\n...     test = len(student_number_2) == 8\n>>> test\nTrue",
         "failure_message": "student_number_2 must be a string of exactly 8 characters or be left as ...",
         "hidden": false,
         "locked": false,
         "points": 0
        },
        {
         "code": ">>> test = True\n>>> if isinstance(student_number_2, str):\n...     test = student_number_2.isdigit()\n>>> test\nTrue",
         "failure_message": "student_number_2 must contain only interger digits (0, 1, 2, 3, ..., 9) or be left as ...",
         "hidden": false,
         "locked": false,
         "points": 0.5
        }
       ],
       "scored": true,
       "setup": "",
       "teardown": "",
       "type": "doctest"
      }
     ]
    },
    "q1.1": {
     "name": "q1.1",
     "points": null,
     "suites": [
      {
       "cases": [
        {
         "code": ">>> len(frequency) == len(V0)\nTrue",
         "failure_message": "Your frequency and V0 lists are different lengths.",
         "hidden": false,
         "locked": false,
         "points": 0
        },
        {
         "code": ">>> len(frequency) == len(errV0)\nTrue",
         "failure_message": "Your frequency and errV0 lists are different lengths.",
         "hidden": false,
         "locked": false,
         "points": 0
        },
        {
         "code": ">>> len(frequency) == len(VR)\nTrue",
         "failure_message": "Your frequency and VR lists are different lengths.",
         "hidden": false,
         "locked": false,
         "points": 0
        },
        {
         "code": ">>> len(frequency) == len(errVR)\nTrue",
         "failure_message": "Your frequency and errVR lists are different lengths.",
         "hidden": false,
         "locked": false,
         "points": 0
        },
        {
         "code": ">>> len(frequency) == len(dt)\nTrue",
         "failure_message": "Your frequency and dt lists are different lengths.",
         "hidden": false,
         "locked": false,
         "points": 0
        },
        {
         "code": ">>> len(frequency) == len(errdt)\nTrue",
         "failure_message": "Your frequency and errdt lists are different lengths.",
         "hidden": false,
         "locked": false,
         "points": 0
        },
        {
         "code": ">>> len(V0) == len(errV0)\nTrue",
         "failure_message": "Your V0 and errV0 lists are different lengths.",
         "hidden": false,
         "locked": false,
         "points": 0
        },
        {
         "code": ">>> len(V0) == len(VR)\nTrue",
         "failure_message": "Your V0 and VR lists are different lengths.",
         "hidden": false,
         "locked": false,
         "points": 0
        },
        {
         "code": ">>> len(V0) == len(errVR)\nTrue",
         "failure_message": "Your V0 and errVR lists are different lengths.",
         "hidden": false,
         "locked": false,
         "points": 0
        },
        {
         "code": ">>> len(V0) == len(dt)\nTrue",
         "failure_message": "Your V0 and dt lists are different lengths.",
         "hidden": false,
         "locked": false,
         "points": 0
        },
        {
         "code": ">>> len(V0) == len(errdt)\nTrue",
         "failure_message": "Your V0 and errdt lists are different lengths.",
         "hidden": false,
         "locked": false,
         "points": 0
        },
        {
         "code": ">>> len(errV0) == len(VR)\nTrue",
         "failure_message": "Your errV0 and VR lists are different lengths.",
         "hidden": false,
         "locked": false,
         "points": 0
        },
        {
         "code": ">>> len(errV0) == len(errVR)\nTrue",
         "failure_message": "Your errV0 and errVR lists are different lengths.",
         "hidden": false,
         "locked": false,
         "points": 0
        },
        {
         "code": ">>> len(errV0) == len(dt)\nTrue",
         "failure_message": "Your errV0 and dt lists are different lengths.",
         "hidden": false,
         "locked": false,
         "points": 0
        },
        {
         "code": ">>> len(errV0) == len(errdt)\nTrue",
         "failure_message": "Your errV0 and errdt lists are different lengths.",
         "hidden": false,
         "locked": false,
         "points": 0
        },
        {
         "code": ">>> len(VR) == len(errVR)\nTrue",
         "failure_message": "Your VR and errVR lists are different lengths.",
         "hidden": false,
         "locked": false,
         "points": 0
        },
        {
         "code": ">>> len(VR) == len(dt)\nTrue",
         "failure_message": "Your VR and dt lists are different lengths.",
         "hidden": false,
         "locked": false,
         "points": 0
        },
        {
         "code": ">>> len(VR) == len(errdt)\nTrue",
         "failure_message": "Your VR and errdt lists are different lengths.",
         "hidden": false,
         "locked": false,
         "points": 0
        },
        {
         "code": ">>> len(errVR) == len(dt)\nTrue",
         "failure_message": "Your errVR and dt lists are different lengths.",
         "hidden": false,
         "locked": false,
         "points": 0
        },
        {
         "code": ">>> len(errVR) == len(errdt)\nTrue",
         "failure_message": "Your errVR and errdt lists are different lengths.",
         "hidden": false,
         "locked": false,
         "points": 0
        },
        {
         "code": ">>> len(dt) == len(errdt)\nTrue",
         "failure_message": "Your dt and errdt lists are different lengths.",
         "hidden": false,
         "locked": false,
         "points": 0
        },
        {
         "code": ">>> N = 25\n>>> len(frequency) >= N and len(V0) >= N and len(errV0) >= N and len(VR) >= N and len(errVR) >= N and len(dt) >= N and len(errdt) >= N\nTrue",
         "failure_message": "A minimum of 35 measurements are required.",
         "hidden": false,
         "locked": false,
         "points": 2
        }
       ],
       "scored": true,
       "setup": "",
       "teardown": "",
       "type": "doctest"
      }
     ]
    },
    "q1.2": {
     "name": "q1.2",
     "points": null,
     "suites": [
      {
       "cases": [
        {
         "code": ">>> len(omega) != 0\nTrue",
         "failure_message": "The omega array is empty.",
         "hidden": false,
         "locked": false,
         "points": 0
        },
        {
         "code": ">>> all(np.isclose(omega, 2*np.pi*frequency, rtol = 0.01))\nTrue",
         "failure_message": "Double check your calculation of omega.  Remember that, in Python, the syntax for pi is np.pi.",
         "hidden": false,
         "locked": false,
         "points": 1
        },
        {
         "code": ">>> len(Ratio) != 0\nTrue",
         "failure_message": "The Ratio array is empty.",
         "hidden": false,
         "locked": false,
         "points": 0
        },
        {
         "code": ">>> all(np.isclose(Ratio, VR/V0, rtol = 0.01))\nTrue",
         "failure_message": "Double check your calculation of Ratio.",
         "hidden": false,
         "locked": false,
         "points": 1
        },
        {
         "code": ">>> len(errRatio) != 0\nTrue",
         "failure_message": "The Ratio array is empty.",
         "hidden": false,
         "locked": false,
         "points": 0
        },
        {
         "code": ">>> all(np.isclose(errRatio, np.sqrt((errVR/V0)**2 + (VR*errV0/V0**2)**2), rtol = 0.01))\nTrue",
         "failure_message": "Double check your calculation of Ratio.",
         "hidden": false,
         "locked": false,
         "points": 1
        }
       ],
       "scored": true,
       "setup": "",
       "teardown": "",
       "type": "doctest"
      }
     ]
    },
    "q1.6": {
     "name": "q1.6",
     "points": null,
     "suites": [
      {
       "cases": [
        {
         "code": ">>> len(Phi) != 0\nTrue",
         "hidden": false,
         "locked": false
        },
        {
         "code": ">>> all(np.isclose(Phi, omega*1e3*dt*1e-6, rtol = 0.01))\nTrue",
         "failure_message": "Double check your calculation of Phi.",
         "hidden": false,
         "locked": false,
         "points": 1
        },
        {
         "code": ">>> len(errPhi) != 0\nTrue",
         "hidden": false,
         "locked": false
        },
        {
         "code": ">>> all(np.isclose(errPhi, omega*1e3*errdt*1e-6, rtol = 0.01))\nTrue",
         "failure_message": "Double check your calculation of errPhi.",
         "hidden": false,
         "locked": false,
         "points": 1
        }
       ],
       "scored": true,
       "setup": "",
       "teardown": "",
       "type": "doctest"
      }
     ]
    }
   }
  },
  "vscode": {
   "interpreter": {
    "hash": "a1ce1a55934a23fd40442cf0356ecbdd657c4299d40a67360326f76004edb0e0"
   }
  }
 },
 "nbformat": 4,
 "nbformat_minor": 5
}
